{
 "cells": [
  {
   "cell_type": "markdown",
   "metadata": {},
   "source": [
    " <img src='Imagens/logon.jpg' width=\"500px\" align=\"center\">"
   ]
  },
  {
   "cell_type": "markdown",
   "metadata": {},
   "source": [
    "<center> <font size=\"4\"> Testing code results. </center> </font>"
   ]
  },
  {
   "cell_type": "code",
   "execution_count": 1,
   "metadata": {},
   "outputs": [],
   "source": [
    "################PACOTES###############\n",
    "import numpy as np\n",
    "import pylab as py\n",
    "import math as mt\n",
    "import matplotlib.pyplot as plt\n",
    "from IPython.display import Latex\n",
    "####################################"
   ]
  },
  {
   "cell_type": "code",
   "execution_count": 2,
   "metadata": {},
   "outputs": [],
   "source": [
    "#lendo o dado:\n",
    "\n",
    "nuvem = np.loadtxt('teste_nuvem_T.txt')\n",
    "ponto = np.loadtxt('teste_nuvem_C.txt')\n",
    "\n",
    "#print(ponto)\n",
    "\n",
    "beta=np.size(ponto)\n",
    "\n",
    "#print(beta)\n",
    "\n",
    "\n"
   ]
  },
  {
   "cell_type": "code",
   "execution_count": 3,
   "metadata": {
    "scrolled": false
   },
   "outputs": [
    {
     "name": "stdout",
     "output_type": "stream",
     "text": [
      "('(xpm,ypm)', 9.9952129300723715, 4.9924654245053315)\n",
      "('(xm,ym)', 0.99814676955664527, 14.998075363829509)\n"
     ]
    },
    {
     "data": {
      "image/png": "[encoded data removed]",
      "text/plain": [
       "<matplotlib.figure.Figure at 0x7f5447373510>"
      ]
     },
     "metadata": {},
     "output_type": "display_data"
    }
   ],
   "source": [
    "py.rcParams['figure.figsize'] = (9.0, 10.0)#Redimensiona a figura\n",
    "\n",
    "x=nuvem[:,0]\n",
    "y=nuvem[:,1]\n",
    "\n",
    "xm=np.mean(x)\n",
    "ym=np.mean(y)\n",
    "\n",
    "xp=ponto[:,0]\n",
    "yp=ponto[:,1]\n",
    "\n",
    "xpm=np.mean(xp)\n",
    "ypm=np.mean(yp)\n",
    "\n",
    "print('(xpm,ypm)',xpm,ypm)\n",
    "print('(xm,ym)',xm,ym)\n",
    "\n",
    "plt.plot( x, y, 'bo', label='Trainning data') \n",
    "plt.scatter( xm, ym, marker='+',c='green', linewidths=40)\n",
    "plt.plot( xp, yp, 'ro', label='Classification data') \n",
    "plt.scatter( xpm, ypm, marker='+',c='green', linewidths=40)\n",
    "\n",
    "\n",
    "plt.title(\"$Test$\", fontweight='normal', fontsize=27)\n",
    "plt.tick_params(axis='both', labelsize=15)#aumenta o tamanho dos valores nos eixos\n",
    "\n",
    "legend = plt.legend(loc='upper right', shadow=True, fontsize='x-large')\n",
    "\n",
    "plt.grid(True)\n",
    "plt.xlabel(\"$X$\", fontsize=15)\n",
    "plt.ylabel(\"$Y$\", fontsize=15)\n",
    "plt.savefig('Imagens/teste1.eps')  \n",
    "plt.show()  \n",
    "plt.close()\n",
    "\n"
   ]
  },
  {
   "cell_type": "code",
   "execution_count": 4,
   "metadata": {},
   "outputs": [
    {
     "name": "stdout",
     "output_type": "stream",
     "text": [
      "13.4558325552\n"
     ]
    }
   ],
   "source": [
    "#prova real (testando o teste)\n",
    "#Calculando a distância euclideana com base nos centros de gravidade\n",
    "E=mt.sqrt((xm-xpm)**2+(ym-ypm)**2)\n",
    "print(E)"
   ]
  },
  {
   "cell_type": "markdown",
   "metadata": {},
   "source": [
    "Provando a conjectura:\n",
    "\n",
    "\n",
    "$D_{maha}=D_{eucli}-(R_{1}-R_{2})$\n",
    "\n",
    "Onde:\n",
    "\n",
    "$D_{maha}$, Distância de Mahalanobis \n",
    "\n",
    "$D_{eucli}$, Distância de Euclides\n",
    "\n",
    "$R_{1}$, Raio do agrupamento 1\n",
    "\n",
    "$R_{2}$, Raio do agrupamento 2\n"
   ]
  },
  {
   "cell_type": "code",
   "execution_count": 6,
   "metadata": {},
   "outputs": [
    {
     "name": "stdout",
     "output_type": "stream",
     "text": [
      "3.4558\n"
     ]
    }
   ],
   "source": [
    "Dmaha=13.4558-(5+5)\n",
    "print(Dmaha)"
   ]
  },
  {
   "cell_type": "markdown",
   "metadata": {
    "collapsed": true
   },
   "source": [
    "---------------------------------------------------------------------------------------------------------------------------------------------------------------------------------------------------------------------------------------------------------------------------------------------------------------------------------------------------------------------------"
   ]
  }
 ],
 "metadata": {
  "anaconda-cloud": {},
  "kernelspec": {
   "display_name": "Python 2",
   "language": "python",
   "name": "python2"
  },
  "language_info": {
   "codemirror_mode": {
    "name": "ipython",
    "version": 2
   },
   "file_extension": ".py",
   "mimetype": "text/x-python",
   "name": "python",
   "nbconvert_exporter": "python",
   "pygments_lexer": "ipython2",
   "version": "2.7.13"
  }
 },
 "nbformat": 4,
 "nbformat_minor": 1
}
